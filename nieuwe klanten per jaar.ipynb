{
 "cells": [
  {
   "cell_type": "code",
   "execution_count": 59,
   "metadata": {},
   "outputs": [],
   "source": [
    "# Data Set voorbereiden\n",
    "import warnings\n",
    "import pandas as pd\n",
    "import pyodbc\n",
    "warnings.simplefilter('ignore')\n",
    "\n",
    "DBAdventureWorks = {\"servername\": \"localhost\\SQLEXPRESS\",\n",
    "      \"database\": \"AdventureWorks2019\"}\n",
    "DBaenc = {\"servername\": \"localhost\\SQLEXPRESS\",\n",
    "      \"database\": \"aenc\"}\n",
    "DBNorthwind = {\"servername\": \"localhost\\SQLEXPRESS\",\n",
    "      \"database\": \"Northwind\"}\n",
    "\n",
    "\n",
    "export_connAdventureWorks = pyodbc.connect('DRIVER={SQL Server};SERVER=' + DBAdventureWorks['servername'] + \n",
    "                             ';DATABASE=' + DBAdventureWorks['database'] + ';Trusted_Connection=yes')\n",
    "export_connaenc = pyodbc.connect('DRIVER={SQL Server};SERVER=' + DBaenc['servername'] + \n",
    "                             ';DATABASE=' + DBaenc['database'] + ';Trusted_Connection=yes')\n",
    "export_connNorthwind = pyodbc.connect('DRIVER={SQL Server};SERVER=' + DBNorthwind['servername'] + \n",
    "                             ';DATABASE=' + DBNorthwind['database'] + ';Trusted_Connection=yes')\n",
    "\n",
    "export_cursorAdventureWorks = export_connAdventureWorks.cursor()\n",
    "export_cursoraenc = export_connaenc.cursor()\n",
    "export_cursorNorthwind = export_connNorthwind.cursor()\n",
    "\n",
    "\n",
    "\n",
    "\n",
    "\n",
    "\n"
   ]
  },
  {
   "cell_type": "markdown",
   "metadata": {},
   "source": [
    "# data ophalen"
   ]
  },
  {
   "cell_type": "code",
   "execution_count": 60,
   "metadata": {},
   "outputs": [],
   "source": [
    "adventureworks_customers = pd.read_sql_query(\"SELECT * FROM Sales.Customer\", export_connAdventureWorks)\n",
    "adventureworks_orders = pd.read_sql_query(\"SELECT * FROM Sales.SalesOrderHeader\", export_connAdventureWorks)\n",
    "\n",
    "aenc_customers = pd.read_sql_query(\"SELECT * FROM customer\", export_connaenc)\n",
    "aenc_orders = pd.read_sql_query(\"SELECT * FROM sales_order\", export_connaenc)\n",
    "\n",
    "\n",
    "northwind_customers = pd.read_sql_query(\"SELECT * FROM Customers\", export_connNorthwind)\n",
    "northwind_orders = pd.read_sql_query(\"SELECT * FROM Orders\", export_connNorthwind)\n"
   ]
  },
  {
   "cell_type": "markdown",
   "metadata": {},
   "source": [
    "# Data verwerken "
   ]
  },
  {
   "cell_type": "code",
   "execution_count": 61,
   "metadata": {},
   "outputs": [],
   "source": [
    "# Combineer klantgegevens met ordergegevens om de OrderDate en andere gegevens te krijgen\n",
    "adventureworks_orders = adventureworks_orders.merge(adventureworks_customers, on='CustomerID', how='left')\n",
    "\n",
    "# Selecteer en hernoem de relevante kolommen\n",
    "adventureworks_orders = adventureworks_orders[['CustomerID', 'OrderDate']]\n",
    "adventureworks_orders['Source'] = 'AdventureWorks2019'\n",
    "\n",
    "#voeg een prefix toe om duplicate customer IDs te voorkomen\n",
    "adventureworks_orders['CustomerID'] = 'AW_' + adventureworks_orders['CustomerID'].astype(str)\n",
    "\n",
    "aenc_customers.rename(columns={'id': 'cust_id'}, inplace=True)\n",
    "aenc_orders = aenc_orders.merge(aenc_customers, on='cust_id', how='left')\n",
    "\n",
    "# Selecteer en hernoem de relevante kolommen\n",
    "aenc_orders = aenc_orders[['cust_id', 'order_date']]\n",
    "aenc_orders.columns = ['CustomerID', 'OrderDate']\n",
    "aenc_orders['Source'] = 'AenC'\n",
    "\n",
    "# Combineer klantgegevens met ordergegevens om de OrderDate en andere gegevens te krijgen\n",
    "northwind_orders = northwind_orders.merge(northwind_customers, on='CustomerID', how='left')\n",
    "\n",
    "# Selecteer en hernoem de relevante kolommen\n",
    "northwind_orders = northwind_orders[['CustomerID', 'OrderDate']]\n",
    "northwind_orders['Source'] = 'Northwind'\n",
    "\n",
    "\n",
    "\n",
    "\n"
   ]
  },
  {
   "cell_type": "markdown",
   "metadata": {},
   "source": [
    "# Combineer de dataframes"
   ]
  },
  {
   "cell_type": "code",
   "execution_count": 62,
   "metadata": {},
   "outputs": [
    {
     "data": {
      "text/html": [
       "<div>\n",
       "<style scoped>\n",
       "    .dataframe tbody tr th:only-of-type {\n",
       "        vertical-align: middle;\n",
       "    }\n",
       "\n",
       "    .dataframe tbody tr th {\n",
       "        vertical-align: top;\n",
       "    }\n",
       "\n",
       "    .dataframe thead th {\n",
       "        text-align: right;\n",
       "    }\n",
       "</style>\n",
       "<table border=\"1\" class=\"dataframe\">\n",
       "  <thead>\n",
       "    <tr style=\"text-align: right;\">\n",
       "      <th></th>\n",
       "      <th>CustomerID</th>\n",
       "      <th>OrderDate</th>\n",
       "      <th>Source</th>\n",
       "    </tr>\n",
       "  </thead>\n",
       "  <tbody>\n",
       "    <tr>\n",
       "      <th>0</th>\n",
       "      <td>AW_29825</td>\n",
       "      <td>2011-05-31</td>\n",
       "      <td>AdventureWorks2019</td>\n",
       "    </tr>\n",
       "    <tr>\n",
       "      <th>1</th>\n",
       "      <td>AW_29672</td>\n",
       "      <td>2011-05-31</td>\n",
       "      <td>AdventureWorks2019</td>\n",
       "    </tr>\n",
       "    <tr>\n",
       "      <th>2</th>\n",
       "      <td>AW_29734</td>\n",
       "      <td>2011-05-31</td>\n",
       "      <td>AdventureWorks2019</td>\n",
       "    </tr>\n",
       "    <tr>\n",
       "      <th>3</th>\n",
       "      <td>AW_29994</td>\n",
       "      <td>2011-05-31</td>\n",
       "      <td>AdventureWorks2019</td>\n",
       "    </tr>\n",
       "    <tr>\n",
       "      <th>4</th>\n",
       "      <td>AW_29565</td>\n",
       "      <td>2011-05-31</td>\n",
       "      <td>AdventureWorks2019</td>\n",
       "    </tr>\n",
       "    <tr>\n",
       "      <th>...</th>\n",
       "      <td>...</td>\n",
       "      <td>...</td>\n",
       "      <td>...</td>\n",
       "    </tr>\n",
       "    <tr>\n",
       "      <th>32940</th>\n",
       "      <td>PERIC</td>\n",
       "      <td>1998-05-05</td>\n",
       "      <td>Northwind</td>\n",
       "    </tr>\n",
       "    <tr>\n",
       "      <th>32941</th>\n",
       "      <td>SIMOB</td>\n",
       "      <td>1998-05-06</td>\n",
       "      <td>Northwind</td>\n",
       "    </tr>\n",
       "    <tr>\n",
       "      <th>32942</th>\n",
       "      <td>RICSU</td>\n",
       "      <td>1998-05-06</td>\n",
       "      <td>Northwind</td>\n",
       "    </tr>\n",
       "    <tr>\n",
       "      <th>32943</th>\n",
       "      <td>BONAP</td>\n",
       "      <td>1998-05-06</td>\n",
       "      <td>Northwind</td>\n",
       "    </tr>\n",
       "    <tr>\n",
       "      <th>32944</th>\n",
       "      <td>RATTC</td>\n",
       "      <td>1998-05-06</td>\n",
       "      <td>Northwind</td>\n",
       "    </tr>\n",
       "  </tbody>\n",
       "</table>\n",
       "<p>32945 rows × 3 columns</p>\n",
       "</div>"
      ],
      "text/plain": [
       "      CustomerID  OrderDate              Source\n",
       "0       AW_29825 2011-05-31  AdventureWorks2019\n",
       "1       AW_29672 2011-05-31  AdventureWorks2019\n",
       "2       AW_29734 2011-05-31  AdventureWorks2019\n",
       "3       AW_29994 2011-05-31  AdventureWorks2019\n",
       "4       AW_29565 2011-05-31  AdventureWorks2019\n",
       "...          ...        ...                 ...\n",
       "32940      PERIC 1998-05-05           Northwind\n",
       "32941      SIMOB 1998-05-06           Northwind\n",
       "32942      RICSU 1998-05-06           Northwind\n",
       "32943      BONAP 1998-05-06           Northwind\n",
       "32944      RATTC 1998-05-06           Northwind\n",
       "\n",
       "[32945 rows x 3 columns]"
      ]
     },
     "execution_count": 62,
     "metadata": {},
     "output_type": "execute_result"
    }
   ],
   "source": [
    "# Converteer OrderDate naar datetime\n",
    "adventureworks_orders['OrderDate'] = pd.to_datetime(adventureworks_orders['OrderDate'])\n",
    "aenc_orders['OrderDate'] = pd.to_datetime(aenc_orders['OrderDate'])\n",
    "northwind_orders['OrderDate'] = pd.to_datetime(northwind_orders['OrderDate'])\n",
    "\n",
    "# Combineer de ordergegevens\n",
    "combined_orders = pd.concat([adventureworks_orders, aenc_orders, northwind_orders], ignore_index=True)\n",
    "\n",
    "combined_orders\n",
    "\n"
   ]
  },
  {
   "cell_type": "markdown",
   "metadata": {},
   "source": [
    "# Groepeer per maand en tel het aantal unieke klanten"
   ]
  },
  {
   "cell_type": "code",
   "execution_count": 63,
   "metadata": {},
   "outputs": [
    {
     "data": {
      "text/html": [
       "<div>\n",
       "<style scoped>\n",
       "    .dataframe tbody tr th:only-of-type {\n",
       "        vertical-align: middle;\n",
       "    }\n",
       "\n",
       "    .dataframe tbody tr th {\n",
       "        vertical-align: top;\n",
       "    }\n",
       "\n",
       "    .dataframe thead th {\n",
       "        text-align: right;\n",
       "    }\n",
       "</style>\n",
       "<table border=\"1\" class=\"dataframe\">\n",
       "  <thead>\n",
       "    <tr style=\"text-align: right;\">\n",
       "      <th></th>\n",
       "      <th>YearMonth</th>\n",
       "      <th>NewCustomers</th>\n",
       "    </tr>\n",
       "  </thead>\n",
       "  <tbody>\n",
       "    <tr>\n",
       "      <th>0</th>\n",
       "      <td>1996-03</td>\n",
       "      <td>7</td>\n",
       "    </tr>\n",
       "    <tr>\n",
       "      <th>1</th>\n",
       "      <td>1996-04</td>\n",
       "      <td>14</td>\n",
       "    </tr>\n",
       "    <tr>\n",
       "      <th>2</th>\n",
       "      <td>1996-05</td>\n",
       "      <td>11</td>\n",
       "    </tr>\n",
       "    <tr>\n",
       "      <th>3</th>\n",
       "      <td>1996-06</td>\n",
       "      <td>10</td>\n",
       "    </tr>\n",
       "    <tr>\n",
       "      <th>4</th>\n",
       "      <td>1996-07</td>\n",
       "      <td>30</td>\n",
       "    </tr>\n",
       "    <tr>\n",
       "      <th>...</th>\n",
       "      <td>...</td>\n",
       "      <td>...</td>\n",
       "    </tr>\n",
       "    <tr>\n",
       "      <th>68</th>\n",
       "      <td>2014-02</td>\n",
       "      <td>1713</td>\n",
       "    </tr>\n",
       "    <tr>\n",
       "      <th>69</th>\n",
       "      <td>2014-03</td>\n",
       "      <td>2342</td>\n",
       "    </tr>\n",
       "    <tr>\n",
       "      <th>70</th>\n",
       "      <td>2014-04</td>\n",
       "      <td>2058</td>\n",
       "    </tr>\n",
       "    <tr>\n",
       "      <th>71</th>\n",
       "      <td>2014-05</td>\n",
       "      <td>2350</td>\n",
       "    </tr>\n",
       "    <tr>\n",
       "      <th>72</th>\n",
       "      <td>2014-06</td>\n",
       "      <td>898</td>\n",
       "    </tr>\n",
       "  </tbody>\n",
       "</table>\n",
       "<p>73 rows × 2 columns</p>\n",
       "</div>"
      ],
      "text/plain": [
       "   YearMonth  NewCustomers\n",
       "0    1996-03             7\n",
       "1    1996-04            14\n",
       "2    1996-05            11\n",
       "3    1996-06            10\n",
       "4    1996-07            30\n",
       "..       ...           ...\n",
       "68   2014-02          1713\n",
       "69   2014-03          2342\n",
       "70   2014-04          2058\n",
       "71   2014-05          2350\n",
       "72   2014-06           898\n",
       "\n",
       "[73 rows x 2 columns]"
      ]
     },
     "execution_count": 63,
     "metadata": {},
     "output_type": "execute_result"
    }
   ],
   "source": [
    "combined_orders['YearMonth'] = combined_orders['OrderDate'].dt.to_period('M')\n",
    "new_customers_per_month = combined_orders.groupby('YearMonth')['CustomerID'].nunique().reset_index()\n",
    "new_customers_per_month.rename(columns={'CustomerID': 'NewCustomers'}, inplace=True)\n",
    "\n",
    "new_customers_per_month"
   ]
  },
  {
   "cell_type": "markdown",
   "metadata": {},
   "source": [
    "# Feature engineering voor meer accurate resultaten + resultaten per jaar"
   ]
  },
  {
   "cell_type": "code",
   "execution_count": 64,
   "metadata": {},
   "outputs": [
    {
     "name": "stdout",
     "output_type": "stream",
     "text": [
      "Mean Absolute Error: 210.99948654801986\n"
     ]
    }
   ],
   "source": [
    "from sklearn.model_selection import train_test_split\n",
    "from sklearn.ensemble import RandomForestRegressor\n",
    "from sklearn.preprocessing import StandardScaler\n",
    "from sklearn.metrics import mean_absolute_error\n",
    "\n",
    "# Stap 2: Feature engineering\n",
    "\n",
    "# Laten we zeggen dat we nieuwe features willen maken op basis van de OrderDate\n",
    "# new_customers_per_month['Month'] = new_customers_per_month['YearMonth'].dt.month\n",
    "# new_customers_per_month['Quarter'] = new_customers_per_month['YearMonth'].dt.quarter\n",
    "\n",
    "new_customers_per_month['Year'] = new_customers_per_month['YearMonth'].dt.year\n",
    "\n",
    "# Stap 3: Data normalisatie\n",
    "\n",
    "# We normaliseren de numerieke features om ervoor te zorgen dat ze vergelijkbare schalen hebben\n",
    "scaler = StandardScaler()\n",
    "# new_customers_per_month[['Month', 'Quarter']] = scaler.fit_transform(new_customers_per_month[['Month', 'Quarter']])\n",
    "new_customers_per_month['Year'] = scaler.fit_transform(new_customers_per_month[['Year']])\n",
    "\n",
    "# Stap 4: Train-test split\n",
    "# X = new_customers_per_month[['Month', 'Quarter']]  # Features\n",
    "# y = new_customers_per_month['NewCustomers']  # Target\n",
    "\n",
    "X = new_customers_per_month[['Year']]  # Features\n",
    "y = new_customers_per_month['NewCustomers']  # Target\n",
    "\n",
    "X_train, X_test, y_train, y_test = train_test_split(X, y, test_size=0.2, random_state=42)\n",
    "\n",
    "# Stap 5: Ensemble learning met Random Forest Regressor\n",
    "\n",
    "# Train individuele regressiemodellen op verschillende subsets van de data\n",
    "model1 = RandomForestRegressor(random_state=42)\n",
    "model2 = RandomForestRegressor(random_state=42)\n",
    "model3 = RandomForestRegressor(random_state=42)\n",
    "\n",
    "model1.fit(X_train[:30], y_train[:30])\n",
    "model2.fit(X_train[30:50], y_train[30:50])\n",
    "model3.fit(X_train[50:], y_train[50:])\n",
    "\n",
    "\n",
    "# Stap 6: Voorspellingen combineren\n",
    "\n",
    "# Maak voorspellingen met elk model\n",
    "pred1 = model1.predict(X_test)\n",
    "pred2 = model2.predict(X_test)\n",
    "pred3 = model3.predict(X_test)\n",
    "\n",
    "# Neem het gemiddelde van de voorspellingen van alle modellen\n",
    "ensemble_pred = (pred1 + pred2 + pred3) / 3\n",
    "\n",
    "# Stap 7: Evalueren van de nauwkeurigheid\n",
    "mae = mean_absolute_error(y_test, ensemble_pred)\n",
    "print(\"Mean Absolute Error:\", mae)\n"
   ]
  },
  {
   "cell_type": "markdown",
   "metadata": {},
   "source": [
    "# data visualiseren"
   ]
  },
  {
   "cell_type": "code",
   "execution_count": 65,
   "metadata": {},
   "outputs": [
    {
     "data": {
      "image/png": "[encoded data removed]",
      "text/plain": [
       "<Figure size 640x480 with 1 Axes>"
      ]
     },
     "metadata": {},
     "output_type": "display_data"
    }
   ],
   "source": [
    "import matplotlib.pyplot as plt\n",
    "\n",
    "# Plot werkelijke waarden\n",
    "plt.scatter(X_test['Year'], y_test, color='blue', label='Werkelijke waarden')\n",
    "\n",
    "# Plot voorspelde waarden\n",
    "plt.scatter(X_test['Year'], ensemble_pred, color='red', label='Voorspelde waarden')\n",
    "\n",
    "plt.title('Voorspelde vs Werkelijke waarden')\n",
    "plt.xlabel('Jaar')\n",
    "plt.ylabel('Aantal nieuwe klanten')\n",
    "plt.legend()\n",
    "plt.show()"
   ]
  },
  {
   "cell_type": "markdown",
   "metadata": {},
   "source": [
    "# Regressiemodel trainen (zonder feature engineering)"
   ]
  },
  {
   "cell_type": "code",
   "execution_count": 66,
   "metadata": {},
   "outputs": [
    {
     "name": "stdout",
     "output_type": "stream",
     "text": [
      "Mean Absolute Error: 244.9459134243807\n"
     ]
    }
   ],
   "source": [
    "#Voeg season toe\n",
    "new_customers_per_month['Year'] = new_customers_per_month['YearMonth'].dt.year\n",
    "\n",
    "# Selecteer de features en target\n",
    "X = new_customers_per_month[['Year']]\n",
    "y = new_customers_per_month['NewCustomers']\n",
    "\n",
    "# Train-test split\n",
    "from sklearn.model_selection import train_test_split\n",
    "X_train, X_test, y_train, y_test = train_test_split(X, y, test_size=0.2, random_state=42)\n",
    "\n",
    "# Train het model\n",
    "from sklearn.linear_model import LinearRegression\n",
    "model = LinearRegression()\n",
    "model.fit(X_train, y_train)\n",
    "\n",
    "# Voorspel het aantal nieuwe klanten\n",
    "predictions = model.predict(X_test)\n",
    "\n",
    "# Bereken de nauwkeurigheid van het model\n",
    "from sklearn.metrics import mean_absolute_error\n",
    "mae = mean_absolute_error(y_test, predictions)\n",
    "print(f\"Mean Absolute Error: {mae}\")"
   ]
  },
  {
   "cell_type": "markdown",
   "metadata": {},
   "source": [
    "# Data visualiseren"
   ]
  },
  {
   "cell_type": "code",
   "execution_count": 67,
   "metadata": {},
   "outputs": [
    {
     "data": {
      "image/png": "[encoded data removed]",
      "text/plain": [
       "<Figure size 1000x600 with 1 Axes>"
      ]
     },
     "metadata": {},
     "output_type": "display_data"
    }
   ],
   "source": [
    "import matplotlib.pyplot as plt\n",
    "\n",
    "# Visualiseer het werkelijke versus voorspelde aantal nieuwe klanten\n",
    "plt.figure(figsize=(10, 6))\n",
    "plt.scatter(y_test, predictions, alpha=0.5)\n",
    "plt.xlabel('Werkelijke aantal nieuwe klanten')\n",
    "plt.ylabel('Voorspelde aantal nieuwe klanten')\n",
    "plt.title('Werkelijke versus voorspelde aantal nieuwe klanten')\n",
    "plt.grid(True)\n",
    "plt.xlim([0, max(y_test.max(), predictions.max())])\n",
    "plt.ylim([0, max(y_test.max(), predictions.max())])\n",
    "plt.plot([0, max(y_test.max(), predictions.max())], [0, max(y_test.max(), predictions.max())], color='red', linestyle='--')\n",
    "plt.show()"
   ]
  },
  {
   "cell_type": "markdown",
   "metadata": {},
   "source": [
    "# conclusie\n",
    "De resultaten per maand waren niet erg accuraat. Ik denk dat dit komt door de kleine hoeveelheid data. Zelfs toen ik hierop Feature Engineering toepaste was de mae boven de 500.\n",
    "\n",
    "De resultaten per jaar zijn accurater. De mae is nog steeds boven de 200 maar zoals we in de sctatterplot kunnen zien zijn de voorspellingen relatief accuraat met de werkelijkheid.\n",
    "\n",
    "met feature engineering was de voorspelling iets accurater."
   ]
  }
 ],
 "metadata": {
  "kernelspec": {
   "display_name": "Python 3",
   "language": "python",
   "name": "python3"
  },
  "language_info": {
   "codemirror_mode": {
    "name": "ipython",
    "version": 3
   },
   "file_extension": ".py",
   "mimetype": "text/x-python",
   "name": "python",
   "nbconvert_exporter": "python",
   "pygments_lexer": "ipython3",
   "version": "3.12.2"
  }
 },
 "nbformat": 4,
 "nbformat_minor": 2
}
