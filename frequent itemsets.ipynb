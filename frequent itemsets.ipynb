{
 "cells": [
  {
   "cell_type": "code",
   "execution_count": 71,
   "metadata": {},
   "outputs": [],
   "source": [
    "# Data Set voorbereiden\n",
    "import warnings\n",
    "import pandas as pd\n",
    "import pyodbc\n",
    "warnings.simplefilter('ignore')\n",
    "\n",
    "DBAdventureWorks = {\"servername\": \"localhost\\SQLEXPRESS\",\n",
    "      \"database\": \"AdventureWorks2019\"}\n",
    "DBaenc = {\"servername\": \"localhost\\SQLEXPRESS\",\n",
    "      \"database\": \"aenc\"}\n",
    "DBNorthwind = {\"servername\": \"localhost\\SQLEXPRESS\",\n",
    "      \"database\": \"Northwind\"}\n",
    "\n",
    "\n",
    "connAdventureWorks = pyodbc.connect('DRIVER={SQL Server};SERVER=' + DBAdventureWorks['servername'] + \n",
    "                             ';DATABASE=' + DBAdventureWorks['database'] + ';Trusted_Connection=yes')\n",
    "connAenC = pyodbc.connect('DRIVER={SQL Server};SERVER=' + DBaenc['servername'] + \n",
    "                             ';DATABASE=' + DBaenc['database'] + ';Trusted_Connection=yes')\n",
    "connNorthwind = pyodbc.connect('DRIVER={SQL Server};SERVER=' + DBNorthwind['servername'] + \n",
    "                             ';DATABASE=' + DBNorthwind['database'] + ';Trusted_Connection=yes')\n",
    "\n",
    "export_cursorAdventureWorks = connAdventureWorks.cursor()\n",
    "export_cursoraenc = connAenC.cursor()\n",
    "export_cursorNorthwind = connNorthwind.cursor()"
   ]
  },
  {
   "cell_type": "markdown",
   "metadata": {},
   "source": [
    "# data laden"
   ]
  },
  {
   "cell_type": "code",
   "execution_count": 72,
   "metadata": {},
   "outputs": [],
   "source": [
    "adventureworks_customers = pd.read_sql_query(\"SELECT * FROM Sales.Customer\", connAdventureWorks)\n",
    "adventureworks_sales = pd.read_sql_query(\"SELECT * FROM Sales.SalesOrderDetail\", connAdventureWorks)\n",
    "adventureworks_order_header = pd.read_sql_query(\"SELECT * FROM Sales.SalesOrderHeader\", connAdventureWorks)\n",
    "\n",
    "aenc_customers = pd.read_sql_query(\"SELECT * FROM customer\", connAenC)\n",
    "aenc_sales = pd.read_sql_query(\"SELECT * FROM sales_order_item\", connAenC)\n",
    "aenc_order_header = pd.read_sql_query(\"SELECT * FROM sales_order\", connAenC)\n",
    "\n",
    "northwind_customers = pd.read_sql_query(\"SELECT * FROM Customers\", connNorthwind)\n",
    "northwind_sales = pd.read_sql_query(\"SELECT * FROM [Order Details]\", connNorthwind)\n",
    "northwind_order_header = pd.read_sql_query(\"SELECT * FROM Orders\", connNorthwind)"
   ]
  },
  {
   "cell_type": "markdown",
   "metadata": {},
   "source": [
    "# data transformeren"
   ]
  },
  {
   "cell_type": "code",
   "execution_count": 73,
   "metadata": {},
   "outputs": [],
   "source": [
    "# Convert aenc_sales quantity column to int64\n",
    "aenc_sales = aenc_sales[pd.to_numeric(aenc_sales['quantity'], errors='coerce').notna()]\n",
    "aenc_sales['Quantity'] = aenc_sales['quantity'].astype('int64')"
   ]
  },
  {
   "cell_type": "code",
   "execution_count": 74,
   "metadata": {},
   "outputs": [],
   "source": [
    "# Add source to dataframes\n",
    "adventureworks_customers['Source'] = 'AdventureWorks2019'\n",
    "aenc_customers['Source'] = 'AenC'\n",
    "northwind_customers['Source'] = 'Northwind'"
   ]
  },
  {
   "cell_type": "code",
   "execution_count": 75,
   "metadata": {},
   "outputs": [],
   "source": [
    "# Normalize column names\n",
    "adventureworks_customers.rename(columns={'CustomerID': 'CustomerID', 'AccountNumber': 'AccountNumber'}, inplace=True)\n",
    "aenc_customers.rename(columns={'id': 'CustomerID'}, inplace=True)\n",
    "northwind_customers.rename(columns={'CustomerID': 'CustomerID'}, inplace=True)"
   ]
  },
  {
   "cell_type": "code",
   "execution_count": 76,
   "metadata": {},
   "outputs": [],
   "source": [
    "# Combine customer data\n",
    "customers = pd.concat([adventureworks_customers[['CustomerID', 'Source']],\n",
    "                       aenc_customers[['CustomerID', 'Source']],\n",
    "                       northwind_customers[['CustomerID', 'Source']]],\n",
    "                      ignore_index=True)"
   ]
  },
  {
   "cell_type": "code",
   "execution_count": 77,
   "metadata": {},
   "outputs": [],
   "source": [
    "# Normalize and combine sales data with order headers\n",
    "adventureworks_sales = adventureworks_sales.merge(adventureworks_order_header[['SalesOrderID', 'CustomerID']], on='SalesOrderID', suffixes=('_adventureworks', '_header'))\n",
    "aenc_sales = aenc_sales.merge(aenc_order_header[['id', 'cust_id']], left_on='id', right_on='id', suffixes=('_aenc', '_header'))\n",
    "northwind_sales = northwind_sales.merge(northwind_order_header[['OrderID', 'CustomerID']], on='OrderID', suffixes=('_northwind', '_header'))\n",
    "\n",
    "adventureworks_sales.rename(columns={'SalesOrderID': 'OrderID', 'CustomerID': 'CustomerID', 'OrderQty': 'Quantity'}, inplace=True)\n",
    "aenc_sales.rename(columns={'id': 'OrderID', 'prod_id': 'ProductID', 'quantity': 'Quantity', 'cust_id': 'CustomerID'}, inplace=True)\n",
    "northwind_sales.rename(columns={'OrderID': 'OrderID', 'ProductID': 'ProductID', 'Quantity': 'Quantity'}, inplace=True)"
   ]
  },
  {
   "cell_type": "code",
   "execution_count": 78,
   "metadata": {},
   "outputs": [],
   "source": [
    "#aenc_sales heeft Quantity 2 keer\n",
    "aenc_sales = aenc_sales.loc[:,~aenc_sales.columns.duplicated()].copy()\n",
    "\n",
    "aenc_sales['Quantity'] = aenc_sales['Quantity'].astype('int64')"
   ]
  },
  {
   "cell_type": "code",
   "execution_count": 79,
   "metadata": {},
   "outputs": [],
   "source": [
    "# Combine sales data\n",
    "sales = pd.concat([adventureworks_sales[['OrderID', 'CustomerID', 'Quantity', 'ProductID']],\n",
    "                   aenc_sales[['OrderID', 'CustomerID', 'Quantity', 'ProductID']],\n",
    "                   northwind_sales[['OrderID', 'CustomerID', 'Quantity', 'ProductID']]],\n",
    "                  ignore_index=True)"
   ]
  },
  {
   "cell_type": "code",
   "execution_count": 80,
   "metadata": {},
   "outputs": [],
   "source": [
    "# Group sales data per customer\n",
    "customer_sales = sales.groupby('CustomerID').agg({'Quantity': 'sum'}).reset_index()\n",
    "customer_sales.rename(columns={'Quantity': 'TotalPurchases'}, inplace=True)"
   ]
  },
  {
   "cell_type": "code",
   "execution_count": 81,
   "metadata": {},
   "outputs": [],
   "source": [
    "# Merge customer sales data\n",
    "customers = customers.merge(customer_sales, on='CustomerID', how='left')"
   ]
  },
  {
   "cell_type": "code",
   "execution_count": 82,
   "metadata": {},
   "outputs": [],
   "source": [
    "# Drop rows with missing values\n",
    "customers.dropna(subset=['TotalPurchases'], inplace=True)"
   ]
  },
  {
   "cell_type": "code",
   "execution_count": 83,
   "metadata": {},
   "outputs": [],
   "source": [
    "# Add dummy variables for Source\n",
    "customers = pd.get_dummies(customers, columns=['Source'], drop_first=True)"
   ]
  },
  {
   "cell_type": "code",
   "execution_count": 84,
   "metadata": {},
   "outputs": [],
   "source": [
    "# Prepare basket matrix for frequent item analysis\n",
    "basket = sales.groupby(['OrderID', 'ProductID']).size().unstack().reset_index().fillna(0).set_index('OrderID')"
   ]
  },
  {
   "cell_type": "markdown",
   "metadata": {},
   "source": [
    "# Apriori algoritme toepassen"
   ]
  },
  {
   "cell_type": "code",
   "execution_count": 85,
   "metadata": {},
   "outputs": [],
   "source": [
    "# Convert to binary values\n",
    "basket = basket.applymap(lambda x: 1 if x > 0 else 0)"
   ]
  },
  {
   "cell_type": "code",
   "execution_count": 101,
   "metadata": {},
   "outputs": [],
   "source": [
    "from mlxtend.frequent_patterns import apriori, association_rules\n",
    "import matplotlib.pyplot as plt\n",
    "warnings.simplefilter('ignore')\n",
    "# Apply Apriori algorithm to find frequent itemsets\n",
    "frequent_itemsets = apriori(basket, min_support=0.01, use_colnames=True)"
   ]
  },
  {
   "cell_type": "code",
   "execution_count": 107,
   "metadata": {},
   "outputs": [],
   "source": [
    "# Generate association rules\n",
    "min_confidence = 0.5\n",
    "rules = association_rules(frequent_itemsets, metric=\"confidence\", min_threshold=min_confidence)"
   ]
  },
  {
   "cell_type": "code",
   "execution_count": 108,
   "metadata": {},
   "outputs": [
    {
     "data": {
      "text/html": [
       "<div>\n",
       "<style scoped>\n",
       "    .dataframe tbody tr th:only-of-type {\n",
       "        vertical-align: middle;\n",
       "    }\n",
       "\n",
       "    .dataframe tbody tr th {\n",
       "        vertical-align: top;\n",
       "    }\n",
       "\n",
       "    .dataframe thead th {\n",
       "        text-align: right;\n",
       "    }\n",
       "</style>\n",
       "<table border=\"1\" class=\"dataframe\">\n",
       "  <thead>\n",
       "    <tr style=\"text-align: right;\">\n",
       "      <th></th>\n",
       "      <th>antecedents</th>\n",
       "      <th>consequents</th>\n",
       "      <th>antecedent support</th>\n",
       "      <th>consequent support</th>\n",
       "      <th>support</th>\n",
       "      <th>confidence</th>\n",
       "      <th>lift</th>\n",
       "      <th>leverage</th>\n",
       "      <th>conviction</th>\n",
       "      <th>zhangs_metric</th>\n",
       "    </tr>\n",
       "  </thead>\n",
       "  <tbody>\n",
       "    <tr>\n",
       "      <th>0</th>\n",
       "      <td>(714)</td>\n",
       "      <td>(707)</td>\n",
       "      <td>0.036971</td>\n",
       "      <td>0.093580</td>\n",
       "      <td>0.021581</td>\n",
       "      <td>0.583744</td>\n",
       "      <td>6.237898</td>\n",
       "      <td>0.018122</td>\n",
       "      <td>2.177553</td>\n",
       "      <td>0.871925</td>\n",
       "    </tr>\n",
       "    <tr>\n",
       "      <th>1</th>\n",
       "      <td>(715)</td>\n",
       "      <td>(707)</td>\n",
       "      <td>0.049628</td>\n",
       "      <td>0.093580</td>\n",
       "      <td>0.025376</td>\n",
       "      <td>0.511315</td>\n",
       "      <td>5.463922</td>\n",
       "      <td>0.020731</td>\n",
       "      <td>1.854814</td>\n",
       "      <td>0.859644</td>\n",
       "    </tr>\n",
       "    <tr>\n",
       "      <th>2</th>\n",
       "      <td>(716)</td>\n",
       "      <td>(707)</td>\n",
       "      <td>0.032660</td>\n",
       "      <td>0.093580</td>\n",
       "      <td>0.019123</td>\n",
       "      <td>0.585502</td>\n",
       "      <td>6.256685</td>\n",
       "      <td>0.016066</td>\n",
       "      <td>2.186789</td>\n",
       "      <td>0.868538</td>\n",
       "    </tr>\n",
       "    <tr>\n",
       "      <th>3</th>\n",
       "      <td>(738)</td>\n",
       "      <td>(707)</td>\n",
       "      <td>0.018212</td>\n",
       "      <td>0.093580</td>\n",
       "      <td>0.010168</td>\n",
       "      <td>0.558333</td>\n",
       "      <td>5.966361</td>\n",
       "      <td>0.008464</td>\n",
       "      <td>2.052271</td>\n",
       "      <td>0.847835</td>\n",
       "    </tr>\n",
       "    <tr>\n",
       "      <th>4</th>\n",
       "      <td>(859)</td>\n",
       "      <td>(707)</td>\n",
       "      <td>0.032964</td>\n",
       "      <td>0.093580</td>\n",
       "      <td>0.018303</td>\n",
       "      <td>0.555249</td>\n",
       "      <td>5.933398</td>\n",
       "      <td>0.015218</td>\n",
       "      <td>2.038037</td>\n",
       "      <td>0.859805</td>\n",
       "    </tr>\n",
       "    <tr>\n",
       "      <th>...</th>\n",
       "      <td>...</td>\n",
       "      <td>...</td>\n",
       "      <td>...</td>\n",
       "      <td>...</td>\n",
       "      <td>...</td>\n",
       "      <td>...</td>\n",
       "      <td>...</td>\n",
       "      <td>...</td>\n",
       "      <td>...</td>\n",
       "      <td>...</td>\n",
       "    </tr>\n",
       "    <tr>\n",
       "      <th>32757</th>\n",
       "      <td>(883, 876)</td>\n",
       "      <td>(864, 708, 870, 712, 715, 877, 884)</td>\n",
       "      <td>0.011474</td>\n",
       "      <td>0.010138</td>\n",
       "      <td>0.010017</td>\n",
       "      <td>0.873016</td>\n",
       "      <td>86.112299</td>\n",
       "      <td>0.009900</td>\n",
       "      <td>7.795162</td>\n",
       "      <td>0.999859</td>\n",
       "    </tr>\n",
       "    <tr>\n",
       "      <th>32758</th>\n",
       "      <td>(884, 876)</td>\n",
       "      <td>(864, 708, 870, 712, 715, 877, 883)</td>\n",
       "      <td>0.013265</td>\n",
       "      <td>0.010138</td>\n",
       "      <td>0.010017</td>\n",
       "      <td>0.755149</td>\n",
       "      <td>74.486154</td>\n",
       "      <td>0.009882</td>\n",
       "      <td>4.042707</td>\n",
       "      <td>0.999837</td>\n",
       "    </tr>\n",
       "    <tr>\n",
       "      <th>32759</th>\n",
       "      <td>(883, 877)</td>\n",
       "      <td>(864, 708, 870, 712, 715, 876, 884)</td>\n",
       "      <td>0.011565</td>\n",
       "      <td>0.010047</td>\n",
       "      <td>0.010017</td>\n",
       "      <td>0.866142</td>\n",
       "      <td>86.208578</td>\n",
       "      <td>0.009901</td>\n",
       "      <td>7.395531</td>\n",
       "      <td>0.999965</td>\n",
       "    </tr>\n",
       "    <tr>\n",
       "      <th>32760</th>\n",
       "      <td>(884, 877)</td>\n",
       "      <td>(864, 708, 870, 712, 715, 876, 883)</td>\n",
       "      <td>0.011109</td>\n",
       "      <td>0.010047</td>\n",
       "      <td>0.010017</td>\n",
       "      <td>0.901639</td>\n",
       "      <td>89.741717</td>\n",
       "      <td>0.009905</td>\n",
       "      <td>10.064522</td>\n",
       "      <td>0.999966</td>\n",
       "    </tr>\n",
       "    <tr>\n",
       "      <th>32761</th>\n",
       "      <td>(883, 884)</td>\n",
       "      <td>(864, 708, 870, 712, 715, 876, 877)</td>\n",
       "      <td>0.011504</td>\n",
       "      <td>0.010017</td>\n",
       "      <td>0.010017</td>\n",
       "      <td>0.870712</td>\n",
       "      <td>86.926121</td>\n",
       "      <td>0.009901</td>\n",
       "      <td>7.657218</td>\n",
       "      <td>1.000000</td>\n",
       "    </tr>\n",
       "  </tbody>\n",
       "</table>\n",
       "<p>32762 rows × 10 columns</p>\n",
       "</div>"
      ],
      "text/plain": [
       "      antecedents                          consequents  antecedent support  \\\n",
       "0           (714)                                (707)            0.036971   \n",
       "1           (715)                                (707)            0.049628   \n",
       "2           (716)                                (707)            0.032660   \n",
       "3           (738)                                (707)            0.018212   \n",
       "4           (859)                                (707)            0.032964   \n",
       "...           ...                                  ...                 ...   \n",
       "32757  (883, 876)  (864, 708, 870, 712, 715, 877, 884)            0.011474   \n",
       "32758  (884, 876)  (864, 708, 870, 712, 715, 877, 883)            0.013265   \n",
       "32759  (883, 877)  (864, 708, 870, 712, 715, 876, 884)            0.011565   \n",
       "32760  (884, 877)  (864, 708, 870, 712, 715, 876, 883)            0.011109   \n",
       "32761  (883, 884)  (864, 708, 870, 712, 715, 876, 877)            0.011504   \n",
       "\n",
       "       consequent support   support  confidence       lift  leverage  \\\n",
       "0                0.093580  0.021581    0.583744   6.237898  0.018122   \n",
       "1                0.093580  0.025376    0.511315   5.463922  0.020731   \n",
       "2                0.093580  0.019123    0.585502   6.256685  0.016066   \n",
       "3                0.093580  0.010168    0.558333   5.966361  0.008464   \n",
       "4                0.093580  0.018303    0.555249   5.933398  0.015218   \n",
       "...                   ...       ...         ...        ...       ...   \n",
       "32757            0.010138  0.010017    0.873016  86.112299  0.009900   \n",
       "32758            0.010138  0.010017    0.755149  74.486154  0.009882   \n",
       "32759            0.010047  0.010017    0.866142  86.208578  0.009901   \n",
       "32760            0.010047  0.010017    0.901639  89.741717  0.009905   \n",
       "32761            0.010017  0.010017    0.870712  86.926121  0.009901   \n",
       "\n",
       "       conviction  zhangs_metric  \n",
       "0        2.177553       0.871925  \n",
       "1        1.854814       0.859644  \n",
       "2        2.186789       0.868538  \n",
       "3        2.052271       0.847835  \n",
       "4        2.038037       0.859805  \n",
       "...           ...            ...  \n",
       "32757    7.795162       0.999859  \n",
       "32758    4.042707       0.999837  \n",
       "32759    7.395531       0.999965  \n",
       "32760   10.064522       0.999966  \n",
       "32761    7.657218       1.000000  \n",
       "\n",
       "[32762 rows x 10 columns]"
      ]
     },
     "execution_count": 108,
     "metadata": {},
     "output_type": "execute_result"
    }
   ],
   "source": [
    "# Display the rules\n",
    "rules"
   ]
  },
  {
   "cell_type": "code",
   "execution_count": 109,
   "metadata": {},
   "outputs": [
    {
     "data": {
      "image/png": "[encoded data removed]",
      "text/plain": [
       "<Figure size 1000x600 with 1 Axes>"
      ]
     },
     "metadata": {},
     "output_type": "display_data"
    }
   ],
   "source": [
    "import seaborn as sns\n",
    "\n",
    "# Visualize the top 10 rules\n",
    "top_rules = rules.sort_values('lift', ascending=False).head(10)\n",
    "\n",
    "plt.figure(figsize=(10, 6))\n",
    "sns.scatterplot(x='support', y='confidence', size='lift', hue='lift', data=top_rules, palette='viridis', legend=False)\n",
    "plt.title('Top 10 Association Rules')\n",
    "plt.xlabel('Support')\n",
    "plt.ylabel('Confidence')\n",
    "plt.show()"
   ]
  },
  {
   "cell_type": "code",
   "execution_count": 110,
   "metadata": {},
   "outputs": [],
   "source": [
    "# K-means clustering\n",
    "from sklearn.preprocessing import StandardScaler\n",
    "from sklearn.cluster import KMeans\n",
    "\n",
    "# Scale the data\n",
    "scaler = StandardScaler()\n",
    "customers_scaled = scaler.fit_transform(customers[['TotalPurchases']])\n",
    "\n",
    "# Train K-Means model\n",
    "clustercount = 7\n",
    "kmeans = KMeans(n_clusters=clustercount, random_state=42)\n",
    "customers['Cluster'] = kmeans.fit_predict(customers_scaled)"
   ]
  },
  {
   "cell_type": "code",
   "execution_count": 111,
   "metadata": {},
   "outputs": [
    {
     "data": {
      "image/png": "[encoded data removed]",
      "text/plain": [
       "<Figure size 1000x600 with 1 Axes>"
      ]
     },
     "metadata": {},
     "output_type": "display_data"
    }
   ],
   "source": [
    "# Visualize the clusters\n",
    "plt.figure(figsize=(10, 6))\n",
    "sns.scatterplot(x='TotalPurchases', y='Cluster', hue='Cluster', palette='viridis', data=customers, legend='full')\n",
    "plt.scatter(customers['TotalPurchases'], customers['Cluster'], alpha=0.5)\n",
    "plt.xlabel('Total Purchases')\n",
    "plt.ylabel('Cluster')\n",
    "plt.title('Total Purchases vs. Cluster')\n",
    "\n",
    "# Set y-axis to display integer values only\n",
    "plt.yticks(range(clustercount))\n",
    "\n",
    "plt.show()"
   ]
  }
 ],
 "metadata": {
  "kernelspec": {
   "display_name": "Python 3",
   "language": "python",
   "name": "python3"
  },
  "language_info": {
   "codemirror_mode": {
    "name": "ipython",
    "version": 3
   },
   "file_extension": ".py",
   "mimetype": "text/x-python",
   "name": "python",
   "nbconvert_exporter": "python",
   "pygments_lexer": "ipython3",
   "version": "3.12.2"
  }
 },
 "nbformat": 4,
 "nbformat_minor": 2
}
