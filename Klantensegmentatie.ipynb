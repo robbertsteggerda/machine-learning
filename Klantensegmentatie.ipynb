{
 "cells": [
  {
   "cell_type": "code",
   "execution_count": 467,
   "metadata": {},
   "outputs": [],
   "source": [
    "# Data Set voorbereiden\n",
    "import warnings\n",
    "import pandas as pd\n",
    "import pyodbc\n",
    "warnings.simplefilter('ignore')\n",
    "\n",
    "DBAdventureWorks = {\"servername\": \"localhost\\SQLEXPRESS\",\n",
    "      \"database\": \"AdventureWorks2019\"}\n",
    "DBaenc = {\"servername\": \"localhost\\SQLEXPRESS\",\n",
    "      \"database\": \"aenc\"}\n",
    "DBNorthwind = {\"servername\": \"localhost\\SQLEXPRESS\",\n",
    "      \"database\": \"Northwind\"}\n",
    "\n",
    "\n",
    "connAdventureWorks = pyodbc.connect('DRIVER={SQL Server};SERVER=' + DBAdventureWorks['servername'] + \n",
    "                             ';DATABASE=' + DBAdventureWorks['database'] + ';Trusted_Connection=yes')\n",
    "connAenC = pyodbc.connect('DRIVER={SQL Server};SERVER=' + DBaenc['servername'] + \n",
    "                             ';DATABASE=' + DBaenc['database'] + ';Trusted_Connection=yes')\n",
    "connNorthwind = pyodbc.connect('DRIVER={SQL Server};SERVER=' + DBNorthwind['servername'] + \n",
    "                             ';DATABASE=' + DBNorthwind['database'] + ';Trusted_Connection=yes')\n",
    "\n",
    "export_cursorAdventureWorks = connAdventureWorks.cursor()\n",
    "export_cursoraenc = connAenC.cursor()\n",
    "export_cursorNorthwind = connNorthwind.cursor()\n"
   ]
  },
  {
   "cell_type": "markdown",
   "metadata": {},
   "source": [
    "# data selecteren"
   ]
  },
  {
   "cell_type": "code",
   "execution_count": 468,
   "metadata": {},
   "outputs": [],
   "source": [
    "# Laad de data\n",
    "adventureworks_customers = pd.read_sql_query(\"SELECT * FROM Sales.Customer\", connAdventureWorks)\n",
    "adventureworks_sales = pd.read_sql_query(\"SELECT * FROM Sales.SalesOrderDetail\", connAdventureWorks)\n",
    "adventureworks_order_header = pd.read_sql_query(\"SELECT * FROM Sales.SalesOrderHeader\", connAdventureWorks)\n",
    "\n",
    "aenc_customers = pd.read_sql_query(\"SELECT * FROM customer\", connAenC)\n",
    "aenc_sales = pd.read_sql_query(\"SELECT * FROM sales_order_item\", connAenC)\n",
    "aenc_order_header = pd.read_sql_query(\"SELECT * FROM sales_order\", connAenC)\n",
    "\n",
    "northwind_customers = pd.read_sql_query(\"SELECT * FROM Customers\", connNorthwind)\n",
    "northwind_sales = pd.read_sql_query(\"SELECT * FROM [Order Details]\", connNorthwind)\n",
    "northwind_order_header = pd.read_sql_query(\"SELECT * FROM Orders\", connNorthwind)\n",
    "\n",
    "# Geografische gegevens selecteren\n",
    "adventureworks_address = pd.read_sql_query(\"SELECT * FROM Person.Address\", connAdventureWorks)\n",
    "\n",
    "\n"
   ]
  },
  {
   "cell_type": "code",
   "execution_count": 469,
   "metadata": {},
   "outputs": [],
   "source": [
    "# #converteer aenc_sales quantity kolom naar int64\n",
    "aenc_sales = aenc_sales[pd.to_numeric(aenc_sales['quantity'], errors='coerce').notna()]\n",
    "aenc_sales['Quantity'] = aenc_sales['quantity'].astype('int64')\n"
   ]
  },
  {
   "cell_type": "markdown",
   "metadata": {},
   "source": [
    "# data preprocessing"
   ]
  },
  {
   "cell_type": "code",
   "execution_count": 470,
   "metadata": {},
   "outputs": [],
   "source": [
    "#voeg city toe aan adventureworks_order_header\n",
    "adventureworks_order_header = pd.merge(adventureworks_order_header, adventureworks_address, left_on='ShipToAddressID',right_on='AddressID',suffixes=('_adventureworks', '_header'))\n",
    "adventureworks_customers = pd.merge(adventureworks_order_header,adventureworks_customers, on='CustomerID')\n",
    "# Voeg bron aan dataframes toe\n",
    "adventureworks_customers['Source'] = 'AdventureWorks2019'\n",
    "aenc_customers['Source'] = 'AenC'\n",
    "northwind_customers['Source'] = 'Northwind'\n",
    "\n",
    "# Normaliseer kolomnamen\n",
    "adventureworks_customers.rename(columns={'CustomerID': 'CustomerID', 'AccountNumber': 'AccountNumber'}, inplace=True)\n",
    "aenc_customers.rename(columns={'id': 'CustomerID','city' : 'City'}, inplace=True)\n",
    "northwind_customers.rename(columns={'CustomerID': 'CustomerID'}, inplace=True)\n",
    "\n",
    "# Combineer klantdata\n",
    "customers = pd.concat([adventureworks_customers[['CustomerID','City','Source']],\n",
    "                       aenc_customers[['CustomerID','City','Source']],\n",
    "                       northwind_customers[['CustomerID','City','Source']]],\n",
    "                      ignore_index=True)\n",
    "\n",
    "# Normaliseer en combineer sales data met order headers\n",
    "adventureworks_sales = adventureworks_sales.merge(adventureworks_order_header[['SalesOrderID','CustomerID']], on='SalesOrderID', suffixes=('_adventureworks', '_header'))\n",
    "aenc_sales = aenc_sales.merge(aenc_order_header[['id', 'cust_id']], left_on='id', right_on='id', suffixes=('_aenc', '_header'))\n",
    "northwind_sales = northwind_sales.merge(northwind_order_header[['OrderID', 'CustomerID']], on='OrderID', suffixes=('_northwind', '_header'))\n",
    "\n",
    "adventureworks_sales.rename(columns={'SalesOrderID': 'OrderID', 'CustomerID': 'CustomerID', 'OrderQty': 'Quantity'}, inplace=True)\n",
    "aenc_sales.rename(columns={'id': 'OrderID', 'prod_id': 'ProductID', 'quantity': 'Quantity', 'cust_id': 'CustomerID'}, inplace=True)\n",
    "northwind_sales.rename(columns={'OrderID': 'OrderID', 'ProductID': 'ProductID', 'Quantity': 'Quantity'}, inplace=True)\n",
    "\n"
   ]
  },
  {
   "cell_type": "code",
   "execution_count": 471,
   "metadata": {},
   "outputs": [],
   "source": [
    "#aenc_sales heeft Quantity 2 keer\n",
    "aenc_sales = aenc_sales.loc[:,~aenc_sales.columns.duplicated()].copy()\n",
    "\n",
    "aenc_sales['Quantity'] = aenc_sales['Quantity'].astype('int64')"
   ]
  },
  {
   "cell_type": "code",
   "execution_count": 472,
   "metadata": {},
   "outputs": [],
   "source": [
    "\n",
    "\n",
    "# Nu de DataFrames samenvoegen\n",
    "sales = pd.concat([adventureworks_sales[['OrderID', 'CustomerID', 'Quantity']],\n",
    "                   aenc_sales[['OrderID', 'CustomerID', 'Quantity']],\n",
    "                   northwind_sales[['OrderID', 'CustomerID', 'Quantity']]],\n",
    "                  ignore_index=False)\n"
   ]
  },
  {
   "cell_type": "code",
   "execution_count": 473,
   "metadata": {},
   "outputs": [
    {
     "name": "stdout",
     "output_type": "stream",
     "text": [
      "  CustomerID            City  TotalPurchases  Source_AenC  Source_Northwind\n",
      "0      29825         Austell          1207.0        False             False\n",
      "1      29672         Suwanee            14.0        False             False\n",
      "2      29734         Toronto          1236.0        False             False\n",
      "3      29994         Toronto          1408.0        False             False\n",
      "4      29565  Trabuco Canyon            14.0        False             False\n"
     ]
    }
   ],
   "source": [
    "import pandas as pd\n",
    "\n",
    "# Groepeer data van verschiellende bronnen\n",
    "sales = pd.concat([adventureworks_sales[['OrderID', 'CustomerID', 'Quantity']],\n",
    "                   aenc_sales[['OrderID', 'CustomerID', 'Quantity']],\n",
    "                   northwind_sales[['OrderID', 'CustomerID', 'Quantity']]],\n",
    "                  ignore_index=True)\n",
    "\n",
    "# Groepeer data per klant\n",
    "customer_sales = sales.groupby('CustomerID').agg({'Quantity': 'sum'}).reset_index()\n",
    "customer_sales.rename(columns={'Quantity': 'TotalPurchases'}, inplace=True)\n",
    "\n",
    "# Voeg dataframes samen\n",
    "customers = customers.merge(customer_sales, on='CustomerID', how='left')\n",
    "\n",
    "# Drop rijen met missende waarden\n",
    "customers.dropna(subset=['TotalPurchases'], inplace=True)\n",
    "\n",
    "# Voeg dummy variabelen toe voor Source\n",
    "customers = pd.get_dummies(customers, columns=['Source'], drop_first=True)\n",
    "\n",
    "#Toon het eerste aantal rijen in de dataset\n",
    "print(customers.head())\n"
   ]
  },
  {
   "cell_type": "markdown",
   "metadata": {},
   "source": [
    "# Clustering model trainen"
   ]
  },
  {
   "cell_type": "code",
   "execution_count": 482,
   "metadata": {},
   "outputs": [
    {
     "name": "stdout",
     "output_type": "stream",
     "text": [
      "  CustomerID            City  TotalPurchases  Source_AenC  Source_Northwind  \\\n",
      "0      29825         Austell          1207.0        False             False   \n",
      "1      29672         Suwanee            14.0        False             False   \n",
      "2      29734         Toronto          1236.0        False             False   \n",
      "3      29994         Toronto          1408.0        False             False   \n",
      "4      29565  Trabuco Canyon            14.0        False             False   \n",
      "\n",
      "   Cluster  \n",
      "0        5  \n",
      "1        0  \n",
      "2        5  \n",
      "3        1  \n",
      "4        0  \n"
     ]
    }
   ],
   "source": [
    "from sklearn.preprocessing import StandardScaler\n",
    "from sklearn.cluster import KMeans\n",
    "\n",
    "# Schaal de data\n",
    "scaler = StandardScaler()\n",
    "customers_scaled = scaler.fit_transform(customers[['TotalPurchases']])\n",
    "\n",
    "# Train K-Means model\n",
    "clustercount = 7\n",
    "\n",
    "kmeans = KMeans(n_clusters=clustercount, random_state=42)\n",
    "customers['Cluster'] = kmeans.fit_predict(customers_scaled)\n",
    "\n",
    "# Bekijk de eerste paar regels van de gesegmenteerde dataset\n",
    "print(customers.head())"
   ]
  },
  {
   "cell_type": "markdown",
   "metadata": {},
   "source": [
    "# Data visualiseren"
   ]
  },
  {
   "cell_type": "code",
   "execution_count": 483,
   "metadata": {},
   "outputs": [
    {
     "data": {
      "image/png": "[encoded data removed]",
      "text/plain": [
       "<Figure size 640x480 with 1 Axes>"
      ]
     },
     "metadata": {},
     "output_type": "display_data"
    }
   ],
   "source": [
    "import matplotlib.pyplot as plt\n",
    "\n",
    "# Scatter plot of Total Purchases vs. Cluster\n",
    "plt.scatter(customers['TotalPurchases'], customers['Cluster'], alpha=0.5)\n",
    "plt.xlabel('Total Purchases')\n",
    "plt.ylabel('Cluster')\n",
    "plt.title('Total Purchases vs. Cluster')\n",
    "\n",
    "# Set y-axis to display integer values only\n",
    "plt.yticks(range(clustercount))\n",
    "\n",
    "plt.show()"
   ]
  }
 ],
 "metadata": {
  "kernelspec": {
   "display_name": "Python 3",
   "language": "python",
   "name": "python3"
  },
  "language_info": {
   "codemirror_mode": {
    "name": "ipython",
    "version": 3
   },
   "file_extension": ".py",
   "mimetype": "text/x-python",
   "name": "python",
   "nbconvert_exporter": "python",
   "pygments_lexer": "ipython3",
   "version": "3.12.2"
  }
 },
 "nbformat": 4,
 "nbformat_minor": 2
}
